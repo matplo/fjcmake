{
 "cells": [
  {
   "cell_type": "code",
   "execution_count": 1,
   "metadata": {},
   "outputs": [],
   "source": [
    "fjcmakedir=\"/Users/ploskon/devel/fjcmake/\""
   ]
  },
  {
   "cell_type": "code",
   "execution_count": 2,
   "metadata": {},
   "outputs": [],
   "source": [
    "import sys"
   ]
  },
  {
   "cell_type": "code",
   "execution_count": 3,
   "metadata": {},
   "outputs": [],
   "source": [
    "sys.path.append(\"{}/test/build/python/build/lib/CMakeSwig/fastjet\".format(fjcmakedir))\n",
    "sys.path.append(\"{}/test/build/python/build/lib/CMakeSwig/recursivetools\".format(fjcmakedir))\n",
    "sys.path.append(\"{}/test/pythia8235inst/lib\".format(fjcmakedir))\n",
    "sys.path.append(\"{}/test/build/python/build/lib/CMakeSwig/pythiafjtools\".format(fjcmakedir))"
   ]
  },
  {
   "cell_type": "code",
   "execution_count": 4,
   "metadata": {},
   "outputs": [],
   "source": [
    "import pyfastjet as fj\n",
    "import pyrecursivetools as rt\n",
    "import pythia8\n",
    "import pypythiafjtools as pyfj"
   ]
  },
  {
   "cell_type": "code",
   "execution_count": 5,
   "metadata": {},
   "outputs": [],
   "source": [
    "def print_jets(jets):\n",
    "    print(\"{0:>5s} {1:>10s} {2:>10s} {3:>10s} {4:>12s}\".format(\n",
    "        \"jet #\", \"pt\", \"rap\", \"phi\", \"N particles\"))\n",
    "\n",
    "    for ijet in range(len(jets)):\n",
    "        jet = jets[ijet]\n",
    "        constituents = jet.constituents()\n",
    "        print(\"{0:5d} {1:10.3f} {2:10.4f} {3:10.4f} {4:10.3f}\".format(\n",
    "            ijet, jet.pt(), jet.rap(), jet.phi(), len(constituents)))"
   ]
  },
  {
   "cell_type": "code",
   "execution_count": 6,
   "metadata": {},
   "outputs": [
    {
     "data": {
      "text/plain": [
       "True"
      ]
     },
     "execution_count": 6,
     "metadata": {},
     "output_type": "execute_result"
    }
   ],
   "source": [
    "pythia = pythia8.Pythia()\n",
    "pythia.readString(\"Beams:eCM = 8000.\")\n",
    "pythia.readString(\"HardQCD:all = on\")\n",
    "pythia.readString(\"PhaseSpace:pTHatMin = 20.\")\n",
    "pythia.readString(\"Next:numberShowEvent = 0\")\n",
    "pythia.readString(\"Next:numberShowInfo = 0\")\n",
    "pythia.readString(\"Next:numberShowProcess = 0\")\n",
    "pythia.init()"
   ]
  },
  {
   "cell_type": "code",
   "execution_count": 7,
   "metadata": {},
   "outputs": [],
   "source": [
    "# set up our jet definition and a jet selector\n",
    "jet_R0 = 0.4\n",
    "jet_def = fj.JetDefinition(fj.antikt_algorithm, jet_R0)\n",
    "selector = fj.SelectorPtMin(20.0) & fj.SelectorAbsRapMax(1)\n",
    "sd = rt.SoftDrop(0, 0.1, 1.0)"
   ]
  },
  {
   "cell_type": "code",
   "execution_count": 8,
   "metadata": {},
   "outputs": [],
   "source": [
    "all_jets = []\n",
    "all_sd_jets = []"
   ]
  },
  {
   "cell_type": "code",
   "execution_count": 10,
   "metadata": {},
   "outputs": [],
   "source": [
    "from tqdm import tnrange, tqdm_notebook"
   ]
  },
  {
   "cell_type": "code",
   "execution_count": null,
   "metadata": {},
   "outputs": [
    {
     "data": {
      "application/vnd.jupyter.widget-view+json": {
       "model_id": "6331854d7fef4e8ab46b4a056125943d",
       "version_major": 2,
       "version_minor": 0
      },
      "text/plain": [
       "HBox(children=(IntProgress(value=0, description='event', max=10000, style=ProgressStyle(description_width='ini…"
      ]
     },
     "metadata": {},
     "output_type": "display_data"
    }
   ],
   "source": [
    "for iEvent in tqdm_notebook(range(10000), 'event'):\n",
    "    # print (\"iEvent: \", iEvent)\n",
    "    if not pythia.next(): continue\n",
    "    parts = pyfj.vectorize(pythia, True, -1, 1)\n",
    "    # print(\" - number of particles: \", len(parts))\n",
    "    jets = selector(jet_def(parts))\n",
    "    sd_jets = [sd.result(j) for j in jets]\n",
    "    all_jets.extend(jets)\n",
    "    all_sd_jets.extend(sd_jets)\n",
    "    # print_jets(jets)\n",
    "pythia.stat();"
   ]
  },
  {
   "cell_type": "code",
   "execution_count": 11,
   "metadata": {},
   "outputs": [],
   "source": [
    "def deltas(jets, jets0):\n",
    "    for i in range(len(jets)):\n",
    "        yield jets0[i].perp() - jets[i].perp()"
   ]
  },
  {
   "cell_type": "code",
   "execution_count": 19,
   "metadata": {},
   "outputs": [],
   "source": [
    "etas = [j.eta() for j in all_jets]\n",
    "pts = [j.pt() for j in all_jets]\n",
    "sd_pts = [j.pt() for j in all_sd_jets]\n",
    "sd_delta_pt = [delta for delta in deltas(all_jets, all_sd_jets)]\n",
    "\n",
    "angs0 = [pyfj.angularity(j, 0.) for j in all_jets]\n",
    "sd_angs0 = [pyfj.angularity(j, 0.) for j in all_sd_jets]\n",
    "angs0_R0 = [pyfj.angularity(j, 0., jet_R0) for j in all_jets]\n",
    "sd_angs0_R0 = [pyfj.angularity(j, 0., jet_R0) for j in all_sd_jets]\n",
    "\n",
    "angs1 = [pyfj.angularity(j, 1.) for j in all_jets]\n",
    "sd_angs1 = [pyfj.angularity(j, 1.) for j in all_sd_jets]\n",
    "angs1_R0 = [pyfj.angularity(j, 1., jet_R0) for j in all_jets]\n",
    "sd_angs1_R0 = [pyfj.angularity(j, 1., jet_R0) for j in all_sd_jets]\n",
    "\n",
    "angs15 = [pyfj.angularity(j, 1.5) for j in all_jets]\n",
    "sd_angs15 = [pyfj.angularity(j, 1.5) for j in all_sd_jets]\n",
    "angs15_R0 = [pyfj.angularity(j, 1.5, jet_R0) for j in all_jets]\n",
    "sd_angs15_R0 = [pyfj.angularity(j, 1.5, jet_R0) for j in all_sd_jets]"
   ]
  },
  {
   "cell_type": "code",
   "execution_count": 20,
   "metadata": {},
   "outputs": [],
   "source": [
    "# %matplotlib notebook\n",
    "# %matplotlib inline\n",
    "%matplotlib widget\n",
    "\n",
    "import matplotlib.pyplot as plt"
   ]
  },
  {
   "cell_type": "code",
   "execution_count": 25,
   "metadata": {},
   "outputs": [
    {
     "data": {
      "application/vnd.jupyter.widget-view+json": {
       "model_id": "ec2da27266b54d66ab118552675458dd",
       "version_major": 2,
       "version_minor": 0
      },
      "text/plain": [
       "FigureCanvasNbAgg()"
      ]
     },
     "metadata": {},
     "output_type": "display_data"
    }
   ],
   "source": [
    "fig, axes = plt.subplots(nrows=1, ncols=2, sharex=False, sharey=False)\n",
    "ax0, ax1, = axes.flatten()\n",
    "n, bins, patches = ax0.hist(pts, 50, density=1, facecolor='blue', alpha=0.3, label='anti-$k_{T}$ R=0.4')\n",
    "n, bins, patches = ax0.hist(sd_pts, 50, density=1, facecolor='red', alpha=0.3, label='Soft Dropped (SD)')\n",
    "# n, bins, patches = ax0.hist(sd_pts, 50, density=1, facecolor='red', alpha=0.3)\n",
    "ax0.set_xlabel(r'$p_{T}$ (GeV)')\n",
    "ax0.set_ylabel('Probability within $\\hat{p_{T}} > 20$')\n",
    "ax0.set_title(r'$\\mathrm{PYTHIA\\ jets}\\ \\sqrt{s}=8\\ \\mathrm{TeV}$ proton-proton')\n",
    "ax0.grid(True)\n",
    "ax0.legend(prop={'size': 10})\n",
    "ax0.set_yscale('log')\n",
    "\n",
    "n, bins, patches = ax1.hist(sd_delta_pt, 50, density=1, facecolor='green', alpha=0.3, label='$\\Delta p_{T} = p_{T}^{SD} - p_{T}$')\n",
    "ax1.legend(prop={'size': 10})\n",
    "ax1.grid(True)\n",
    "ax1.set_yscale('log')\n",
    "fig.tight_layout()"
   ]
  },
  {
   "cell_type": "code",
   "execution_count": 24,
   "metadata": {},
   "outputs": [
    {
     "data": {
      "application/vnd.jupyter.widget-view+json": {
       "model_id": "b56e07a11d52480fbfb78693dda17487",
       "version_major": 2,
       "version_minor": 0
      },
      "text/plain": [
       "FigureCanvasNbAgg()"
      ]
     },
     "metadata": {},
     "output_type": "display_data"
    }
   ],
   "source": [
    "fig1, axes1 = plt.subplots(nrows=3, ncols=2, sharex=False, sharey=False)\n",
    "ax10, ax11, ax12, ax13, ax14, ax15= axes1.flatten()\n",
    "\n",
    "ax10.set_title(r'angularity $\\alpha = 0$')\n",
    "n, bins, patches = ax10.hist(angs0, 25, density=1, facecolor='blue', alpha=0.3)\n",
    "n, bins, patches = ax10.hist(sd_angs0, 25, density=1, facecolor='red', alpha=0.3)\n",
    "\n",
    "ax11.set_title(r'scaled by $R_{0}$')\n",
    "n, bins, patches = ax11.hist(angs0_R0, 25, density=1, facecolor='blue', alpha=0.3)\n",
    "n, bins, patches = ax11.hist(sd_angs0_R0, 25, density=1, facecolor='red', alpha=0.3)\n",
    "\n",
    "ax12.set_title(r'angularity $\\alpha = 1$')\n",
    "n, bins, patches = ax12.hist(angs1, 25, density=1, facecolor='blue', alpha=0.3)\n",
    "n, bins, patches = ax12.hist(sd_angs1, 25, density=1, facecolor='red', alpha=0.3)\n",
    "\n",
    "ax13.set_title(r'scaled by $R_{0}$')\n",
    "n, bins, patches = ax13.hist(angs1_R0, 25, density=1, facecolor='blue', alpha=0.3)\n",
    "n, bins, patches = ax13.hist(sd_angs1_R0, 25, density=1, facecolor='red', alpha=0.3)\n",
    "\n",
    "ax14.set_title(r'angularity $\\alpha = 1.5$')\n",
    "n, bins, patches = ax14.hist(angs15, 25, density=1, facecolor='blue', alpha=0.3)\n",
    "n, bins, patches = ax14.hist(sd_angs15, 25, density=1, facecolor='red', alpha=0.3)\n",
    "\n",
    "ax15.set_title(r'scaled by $R_{0}$')\n",
    "n, bins, patches = ax15.hist(angs15_R0, 25, density=1, facecolor='blue', alpha=0.3)\n",
    "n, bins, patches = ax15.hist(sd_angs15_R0, 25, density=1, facecolor='red', alpha=0.3)\n",
    "\n",
    "fig1.tight_layout()\n"
   ]
  },
  {
   "cell_type": "code",
   "execution_count": null,
   "metadata": {},
   "outputs": [],
   "source": []
  }
 ],
 "metadata": {
  "kernelspec": {
   "display_name": "Python 3",
   "language": "python",
   "name": "python3"
  },
  "language_info": {
   "codemirror_mode": {
    "name": "ipython",
    "version": 3
   },
   "file_extension": ".py",
   "mimetype": "text/x-python",
   "name": "python",
   "nbconvert_exporter": "python",
   "pygments_lexer": "ipython3",
   "version": "3.7.3"
  }
 },
 "nbformat": 4,
 "nbformat_minor": 2
}
