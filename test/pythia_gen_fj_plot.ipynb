{
 "cells": [
  {
   "cell_type": "code",
   "execution_count": 1,
   "metadata": {},
   "outputs": [],
   "source": [
    "fjcmakedir=\"/Users/ploskon/devel/fjcmake/\""
   ]
  },
  {
   "cell_type": "code",
   "execution_count": 2,
   "metadata": {},
   "outputs": [],
   "source": [
    "import sys"
   ]
  },
  {
   "cell_type": "code",
   "execution_count": 3,
   "metadata": {},
   "outputs": [],
   "source": [
    "sys.path.append(\"{}/test/build/python/build/lib/CMakeSwig/fastjet\".format(fjcmakedir))\n",
    "sys.path.append(\"{}/test/build/python/build/lib/CMakeSwig/recursivetools\".format(fjcmakedir))\n",
    "sys.path.append(\"{}/test/pythia8235inst/lib\".format(fjcmakedir))\n",
    "sys.path.append(\"{}/test/build/python/build/lib/CMakeSwig/pythiafjtools\".format(fjcmakedir))"
   ]
  },
  {
   "cell_type": "code",
   "execution_count": 50,
   "metadata": {},
   "outputs": [],
   "source": [
    "import pyfastjet as fj\n",
    "import pyrecursivetools as rt\n",
    "import pythia8\n",
    "import pypythiafjtools as pyfj"
   ]
  },
  {
   "cell_type": "code",
   "execution_count": 51,
   "metadata": {},
   "outputs": [],
   "source": [
    "def print_jets(jets):\n",
    "    print(\"{0:>5s} {1:>10s} {2:>10s} {3:>10s} {4:>12s}\".format(\n",
    "        \"jet #\", \"pt\", \"rap\", \"phi\", \"N particles\"))\n",
    "\n",
    "    for ijet in range(len(jets)):\n",
    "        jet = jets[ijet]\n",
    "        constituents = jet.constituents()\n",
    "        print(\"{0:5d} {1:10.3f} {2:10.4f} {3:10.4f} {4:10.3f}\".format(\n",
    "            ijet, jet.pt(), jet.rap(), jet.phi(), len(constituents)))"
   ]
  },
  {
   "cell_type": "code",
   "execution_count": 52,
   "metadata": {},
   "outputs": [
    {
     "data": {
      "text/plain": [
       "True"
      ]
     },
     "execution_count": 52,
     "metadata": {},
     "output_type": "execute_result"
    }
   ],
   "source": [
    "pythia = pythia8.Pythia()\n",
    "pythia.readString(\"Beams:eCM = 8000.\")\n",
    "pythia.readString(\"HardQCD:all = on\")\n",
    "pythia.readString(\"PhaseSpace:pTHatMin = 20.\")\n",
    "pythia.readString(\"Next:numberShowEvent = 0\")\n",
    "pythia.readString(\"Next:numberShowInfo = 0\")\n",
    "pythia.readString(\"Next:numberShowProcess = 0\")\n",
    "pythia.init()"
   ]
  },
  {
   "cell_type": "code",
   "execution_count": 53,
   "metadata": {},
   "outputs": [],
   "source": [
    "# set up our jet definition and a jet selector\n",
    "jet_def = fj.JetDefinition(fj.antikt_algorithm, 0.4)\n",
    "selector = fj.SelectorPtMin(20.0) & fj.SelectorAbsRapMax(1)\n",
    "sd = rt.SoftDrop(0, 0.1, 1.0)"
   ]
  },
  {
   "cell_type": "code",
   "execution_count": 57,
   "metadata": {},
   "outputs": [],
   "source": [
    "all_jets = []\n",
    "all_sd_jets = []"
   ]
  },
  {
   "cell_type": "code",
   "execution_count": 58,
   "metadata": {},
   "outputs": [],
   "source": [
    "from tqdm import tnrange, tqdm_notebook"
   ]
  },
  {
   "cell_type": "code",
   "execution_count": 60,
   "metadata": {},
   "outputs": [
    {
     "data": {
      "application/vnd.jupyter.widget-view+json": {
       "model_id": "7914309b1a6b439aaee27beea420300d",
       "version_major": 2,
       "version_minor": 0
      },
      "text/plain": [
       "HBox(children=(IntProgress(value=0, description='event', max=1000, style=ProgressStyle(description_width='init…"
      ]
     },
     "metadata": {},
     "output_type": "display_data"
    }
   ],
   "source": [
    "for iEvent in tqdm_notebook(range(1000), 'event'):\n",
    "    # print (\"iEvent: \", iEvent)\n",
    "    if not pythia.next(): continue\n",
    "    parts = pyfj.vectorize(pythia, True, -1, 1)\n",
    "    # print(\" - number of particles: \", len(parts))\n",
    "    jets = selector(jet_def(parts))\n",
    "    sd_jets = [sd.result(j) for j in jets]\n",
    "    all_jets.extend(jets)\n",
    "    all_sd_jets.extend(sd_jets)\n",
    "    # print_jets(jets)\n",
    "pythia.stat();"
   ]
  },
  {
   "cell_type": "code",
   "execution_count": 61,
   "metadata": {},
   "outputs": [],
   "source": [
    "etas = [j.eta() for j in all_jets]\n",
    "pts = [j.pt() for j in all_jets]\n",
    "sd_pts = [j.pt() for j in all_sd_jets]"
   ]
  },
  {
   "cell_type": "code",
   "execution_count": 62,
   "metadata": {},
   "outputs": [],
   "source": [
    "import matplotlib.pyplot as plt\n",
    "#%matplotlib notebook\n",
    "%matplotlib inline\n",
    "import pandas as pd"
   ]
  },
  {
   "cell_type": "code",
   "execution_count": 65,
   "metadata": {
    "scrolled": false
   },
   "outputs": [
    {
     "data": {
      "image/png": "[encoded data removed]",
      "text/plain": [
       "<Figure size 432x288 with 1 Axes>"
      ]
     },
     "metadata": {
      "needs_background": "light"
     },
     "output_type": "display_data"
    }
   ],
   "source": [
    "n, bins, patches = plt.hist(pts, 50, density=1, facecolor='green', alpha=0.3)\n",
    "n, bins, patches = plt.hist(sd_pts, 50, density=1, facecolor='red', alpha=0.3)\n",
    "plt.xlabel(r'$p_{T}$ (GeV)')\n",
    "plt.ylabel('Probability within $\\hat{p_{T}} > 20$')\n",
    "plt.title(r'$\\mathrm{Histogram\\ of\\ PYTHIA\\ jets}\\ \\sqrt{s}=8\\ \\mathrm{TeV}$ proton-proton')\n",
    "plt.grid(True)"
   ]
  },
  {
   "cell_type": "code",
   "execution_count": null,
   "metadata": {},
   "outputs": [],
   "source": []
  }
 ],
 "metadata": {
  "kernelspec": {
   "display_name": "Python 3",
   "language": "python",
   "name": "python3"
  },
  "language_info": {
   "codemirror_mode": {
    "name": "ipython",
    "version": 3
   },
   "file_extension": ".py",
   "mimetype": "text/x-python",
   "name": "python",
   "nbconvert_exporter": "python",
   "pygments_lexer": "ipython3",
   "version": "3.7.3"
  }
 },
 "nbformat": 4,
 "nbformat_minor": 2
}
